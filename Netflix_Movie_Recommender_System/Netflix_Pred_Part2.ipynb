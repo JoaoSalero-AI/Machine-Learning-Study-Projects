{
 "cells": [
  {
   "cell_type": "markdown",
   "metadata": {},
   "source": [
    "# <font color='blue'>Data Science Academy - Machine Learning</font>\n",
    "\n",
    "# <font color='blue'>Capítulo 15</font>"
   ]
  },
  {
   "cell_type": "code",
   "execution_count": null,
   "metadata": {},
   "outputs": [],
   "source": [
    "# Versão da Linguagem Python\n",
    "from platform import python_version\n",
    "print('Versão da Linguagem Python Usada Neste Jupyter Notebook:', python_version())"
   ]
  },
  {
   "cell_type": "markdown",
   "metadata": {},
   "source": [
    "# <font color='blue'>Part 2 - Netflix Movie Recommendation System</font>"
   ]
  },
  {
   "cell_type": "markdown",
   "metadata": {},
   "source": [
    "## Instalando e Carregando os Pacotes"
   ]
  },
  {
   "cell_type": "code",
   "execution_count": null,
   "metadata": {},
   "outputs": [],
   "source": [
    "# Para atualizar um pacote, execute o comando abaixo no terminal ou prompt de comando:\n",
    "# pip install -U nome_pacote\n",
    "\n",
    "# Para instalar a versão exata de um pacote, execute o comando abaixo no terminal ou prompt de comando:\n",
    "# pip install nome_pacote==versão_desejada\n",
    "\n",
    "# Depois de instalar ou atualizar o pacote, reinicie o jupyter notebook."
   ]
  },
  {
   "cell_type": "code",
   "execution_count": null,
   "metadata": {},
   "outputs": [],
   "source": [
    "# Instala o pacote watermark. \n",
    "# Esse pacote é usado para gravar as versões de outros pacotes usados neste jupyter notebook.\n",
    "!pip install -q -U watermark"
   ]
  },
  {
   "cell_type": "code",
   "execution_count": null,
   "metadata": {},
   "outputs": [],
   "source": [
    "# Imports\n",
    "import os\n",
    "import random\n",
    "import numpy as np\n",
    "import pandas as pd\n",
    "import matplotlib\n",
    "import matplotlib.pyplot as plt\n",
    "import scipy\n",
    "from scipy import sparse\n",
    "import sklearn\n",
    "from sklearn.metrics.pairwise import cosine_similarity\n",
    "import xgboost as xgb\n",
    "from datetime import datetime"
   ]
  },
  {
   "cell_type": "code",
   "execution_count": null,
   "metadata": {},
   "outputs": [],
   "source": [
    "# Versões dos pacotes usados neste jupyter notebook\n",
    "%reload_ext watermark\n",
    "%watermark -a \"Data Science Academy\" --iversions"
   ]
  },
  {
   "cell_type": "markdown",
   "metadata": {},
   "source": [
    "## Data Preparation\n",
    "\n",
    "The function below will be used to extract data samples from the sparse matrices created in part 1 of the Mini-Project."
   ]
  },
  {
   "cell_type": "code",
   "execution_count": null,
   "metadata": {
    "colab": {},
    "colab_type": "code",
    "id": "oBOQj4nmxrqD"
   },
   "outputs": [],
   "source": [
    "# Function to get sparse matrix sample\n",
    "def gera_amostra_matriz_esparsa(sparse_matrix, num_users, num_movies, path, verbose = True):\n",
    "\n",
    "    # Tuple: (row, col) and (rating) of sparse matrix\n",
    "    row_ind, col_ind, ratings = sparse.find(sparse_matrix)\n",
    "    users = np.unique(row_ind)\n",
    "    movies = np.unique(col_ind)\n",
    "\n",
    "    # Random seed to reproduce the random process\n",
    "    np.random.seed(15)\n",
    "    \n",
    "    # User and movie samples\n",
    "    sample_users = np.random.choice(users, num_users, replace = True)\n",
    "    sample_movies = np.random.choice(movies, num_movies, replace = True)\n",
    "    \n",
    "    # Generate the boolean mask\n",
    "    mask = np.logical_and(np.isin(row_ind, sample_users), np.isin(col_ind, sample_movies))\n",
    "    \n",
    "    # Matriz esparsa com as amostras da matriz original\n",
    "    amostra_matriz_esparsa = sparse.csr_matrix((ratings[mask], (row_ind[mask], col_ind[mask])), \n",
    "                                               shape = (max(sample_users) + 1, max(sample_movies) + 1))\n",
    "    \n",
    "    # Save to disk\n",
    "    print('Saving to disk...')\n",
    "    sparse.save_npz(path, amostra_matriz_esparsa)\n",
    "    \n",
    "    if verbose:\n",
    "            print('Task completed.\\n')\n",
    "    \n",
    "    return amostra_matriz_esparsa"
   ]
  },
  {
   "cell_type": "markdown",
   "metadata": {
    "colab_type": "text",
    "id": "0jLFR-p1xrqG"
   },
   "source": [
    "### Generate Sample Training Data"
   ]
  },
  {
   "cell_type": "code",
   "execution_count": null,
   "metadata": {
    "colab": {},
    "colab_type": "code",
    "id": "l5dJ4yzVxrqH",
    "outputId": "acd9a972-167a-43d3-b5b5-59da9ee954b8"
   },
   "outputs": [],
   "source": [
    "%%time\n",
    "\n",
    "# Path where is the sparse training matrix generated in Part 1 of the Mini-Project\n",
    "caminho_matriz_treino_original = \"dados/matriz_esparsa_treino.npz\"\n",
    "\n",
    "# Loading the sparse array\n",
    "matriz_esparsa_treino_loaded = sparse.load_npz(caminho_matriz_treino_original)\n",
    "print(\"Original Matrix Loaded.\")\n",
    "\n",
    "# Where to save the sample\n",
    "path = 'dados/amostra_matriz_esparsa_treino.npz'\n",
    "\n",
    "# We get ratings from 1000 users to 100 movies in sparse training matrix\n",
    "amostra_matriz_esparsa_treino = gera_amostra_matriz_esparsa(matriz_esparsa_treino_loaded, \n",
    "                                                            num_users = 1000, \n",
    "                                                            num_movies = 100, \n",
    "                                                            path = path)"
   ]
  },
  {
   "cell_type": "markdown",
   "metadata": {
    "colab_type": "text",
    "id": "fQJ8BE0IxrqJ"
   },
   "source": [
    "### Generating Sample Test Data"
   ]
  },
  {
   "cell_type": "code",
   "execution_count": null,
   "metadata": {
    "colab": {},
    "colab_type": "code",
    "id": "8tPszXJ1xrqJ",
    "outputId": "1bba0063-64bc-4393-d14b-2eb0ddfccf7e"
   },
   "outputs": [],
   "source": [
    "%%time\n",
    "\n",
    "# Path where is the sparse training matrix generated in Part 1 of the Mini-Project\n",
    "caminho_matriz_teste_original = \"dados/matriz_esparsa_teste.npz\"\n",
    "\n",
    "# Loading the sample array (if it already exists)\n",
    "matriz_esparsa_teste_loaded = sparse.load_npz(caminho_matriz_teste_original)\n",
    "print(\"Original Matrix Loaded.\")\n",
    "\n",
    "# Where to save the sample\n",
    "path = 'dados/amostra_matriz_esparsa_teste.npz'\n",
    "\n",
    "# We get ratings from 200 users to 20 movies in the sparse training matrix\n",
    "amostra_matriz_esparsa_teste = gera_amostra_matriz_esparsa(matriz_esparsa_teste_loaded, \n",
    "                                                           num_users = 200, \n",
    "                                                           num_movies = 20,\n",
    "                                                           path = path)"
   ]
  },
  {
   "cell_type": "code",
   "execution_count": null,
   "metadata": {},
   "outputs": [],
   "source": [
    "# Summary\n",
    "print('Number of evaluations in the matrix with training samples: {}'.format(amostra_matriz_esparsa_treino.count_nonzero()))\n",
    "print('Number of evaluations in the matrix with test samples: {}'.format(amostra_matriz_esparsa_teste.count_nonzero()))"
   ]
  },
  {
   "cell_type": "markdown",
   "metadata": {},
   "source": [
    "Note: Samples created. Change the number of users and number of movies if you want to work with larger samples."
   ]
  },
  {
   "cell_type": "markdown",
   "metadata": {
    "colab_type": "text",
    "id": "BgTx-m-cxrqM"
   },
   "source": [
    "### Metrics Extracted from Data\n",
    "\n",
    "Checking some metrics from the data. The model will predict the user's rating of the movie."
   ]
  },
  {
   "cell_type": "code",
   "execution_count": null,
   "metadata": {
    "colab": {},
    "colab_type": "code",
    "id": "Af8rljDExrqN"
   },
   "outputs": [],
   "source": [
    "# Create the dictionary\n",
    "amostra_medias_treino = dict()"
   ]
  },
  {
   "cell_type": "markdown",
   "metadata": {},
   "source": [
    "The function below will be used to calculate the average of ratings."
   ]
  },
  {
   "cell_type": "code",
   "execution_count": null,
   "metadata": {},
   "outputs": [],
   "source": [
    "def calcula_media_ratings(sparse_matrix, of_users):\n",
    "    \n",
    "    # Average ratings\n",
    "    #1 represents the users axis\n",
    "    # 0 represents the movies axis\n",
    "    ax = 1 if of_users else 0 \n",
    "\n",
    "    # Sum of evaluations\n",
    "    sum_of_ratings = sparse_matrix.sum(axis=ax).A1\n",
    "    \n",
    "    # Boolean array of ratings (whether or not a user has rated a movie)\n",
    "    is_rated = sparse_matrix != 0\n",
    "    \n",
    "    # Number of ratings for each user or movie\n",
    "    no_of_ratings = is_rated.sum(axis = ax).A1\n",
    "    \n",
    "    # Sparse array ids, u for user and m for movie\n",
    "    u,m = sparse_matrix.shape\n",
    "    \n",
    "    # User dictionary and their ratings\n",
    "    average_ratings = {i:sum_of_ratings[i] / no_of_ratings[i] \n",
    "                       for i in range(u if of_users else m) \n",
    "                       if no_of_ratings[i] != 0}\n",
    "\n",
    "    return average_ratings"
   ]
  },
  {
   "cell_type": "markdown",
   "metadata": {
    "colab_type": "text",
    "id": "ZNMVuqWHxrqP"
   },
   "source": [
    "Overall average of movie ratings:"
   ]
  },
  {
   "cell_type": "code",
   "execution_count": null,
   "metadata": {
    "colab": {},
    "colab_type": "code",
    "id": "eJN92jujxrqQ",
    "outputId": "bfce9a93-dfa0-4c96-fbf4-fb597a2e336d"
   },
   "outputs": [],
   "source": [
    "# Overall average rating\n",
    "media_global = amostra_matriz_esparsa_treino.sum() / amostra_matriz_esparsa_treino.count_nonzero()\n",
    "amostra_medias_treino['global'] = media_global\n",
    "amostra_medias_treino"
   ]
  },
  {
   "cell_type": "markdown",
   "metadata": {
    "colab_type": "text",
    "id": "A3ldVasnxrqS"
   },
   "source": [
    "Average rating per user:"
   ]
  },
  {
   "cell_type": "code",
   "execution_count": null,
   "metadata": {
    "colab": {},
    "colab_type": "code",
    "id": "iLBPu2ObxrqT",
    "outputId": "85af4594-80f1-4dc9-9588-6372e62db396",
    "scrolled": true
   },
   "outputs": [],
   "source": [
    "# Calculates average user rating\n",
    "amostra_medias_treino['user'] = calcula_media_ratings(amostra_matriz_esparsa_treino, of_users = True)"
   ]
  },
  {
   "cell_type": "code",
   "execution_count": null,
   "metadata": {},
   "outputs": [],
   "source": [
    "# Let's extract one of the users from the movie dictionary (the goal here is just to automate the process)\n",
    "um_usuario = [a for a, b in amostra_medias_treino['user'].items()][0]\n",
    "um_usuario"
   ]
  },
  {
   "cell_type": "code",
   "execution_count": null,
   "metadata": {},
   "outputs": [],
   "source": [
    "# Print\n",
    "print('Média de Avaliação do Usuário ' + str(um_usuario) + ':', amostra_medias_treino['user'][um_usuario])"
   ]
  },
  {
   "cell_type": "markdown",
   "metadata": {
    "colab_type": "text",
    "id": "qiVaPz6AxrqV"
   },
   "source": [
    "Average rating per film:"
   ]
  },
  {
   "cell_type": "code",
   "execution_count": null,
   "metadata": {
    "colab": {},
    "colab_type": "code",
    "id": "q8QD09k4xrqV",
    "outputId": "2b01a6e0-6a5e-4c90-d7f3-98c75cf14c3b",
    "scrolled": true
   },
   "outputs": [],
   "source": [
    "# Calculates the average rating of movies\n",
    "amostra_medias_treino['movie'] =  calcula_media_ratings(amostra_matriz_esparsa_treino, of_users = False)"
   ]
  },
  {
   "cell_type": "code",
   "execution_count": null,
   "metadata": {},
   "outputs": [],
   "source": [
    "# Let's extract one of the movies from the movie dictionary (the goal here is just to automate the process)\n",
    "um_filme = [a for a, b in amostra_medias_treino['movie'].items()][0]\n",
    "um_filme"
   ]
  },
  {
   "cell_type": "code",
   "execution_count": null,
   "metadata": {},
   "outputs": [],
   "source": [
    "# Pring\n",
    "print('Média de Avaliação do Filme ' + str(um_filme) + ':', amostra_medias_treino['movie'][um_filme])"
   ]
  },
  {
   "cell_type": "markdown",
   "metadata": {
    "colab_type": "text",
    "id": "xVwLprg-xrqZ"
   },
   "source": [
    "## Formatting the Data\n",
    "\n",
    "Construction of a regression model, since it is intended to predict the evaluations (numerical values).\n",
    "\n",
    "Prepare the training and test data in the cells below.\n",
    "\n",
    "These are the model variables."
   ]
  },
  {
   "cell_type": "markdown",
   "metadata": {},
   "source": [
    "Predictor Variables (input):\n",
    "\n",
    "- **GAvg** : Global average of the evaluations\n",
    "\n",
    "\n",
    "- **Review from similar users**:\n",
    "    - sur1, sur2, sur3, sur4, sur5 (top 5 users similar to each user who rated a movie)\n",
    "    \n",
    "\n",
    "- **Similar movies rated by a user**:\n",
    "    - smr1, smr2, smr3, smr4, smr5 (top 5 movies similar to each movie rated)\n",
    "\n",
    "\n",
    "- **UAvg** : Average user ratings\n",
    "\n",
    "\n",
    "- **MAvg** : Average rating of the film\n",
    "\n",
    "\n",
    "Target Variable (output):\n",
    "\n",
    "- **rating** : Rating of the movie given by a user"
   ]
  },
  {
   "cell_type": "markdown",
   "metadata": {
    "colab_type": "text",
    "id": "GZ7FYSibxrqc"
   },
   "source": [
    "### Preparing Training Data for the Regression Model"
   ]
  },
  {
   "cell_type": "code",
   "execution_count": null,
   "metadata": {
    "colab": {},
    "colab_type": "code",
    "id": "jMTXqVR3xrqd"
   },
   "outputs": [],
   "source": [
    "# Extracting the data from the sample matrix\n",
    "amostra_usuarios_treino, amostra_filmes_treino, amostra_avaliacoes_treino = sparse.find(amostra_matriz_esparsa_treino)"
   ]
  },
  {
   "cell_type": "markdown",
   "metadata": {},
   "source": [
    "The cell below takes a long time to run."
   ]
  },
  {
   "cell_type": "code",
   "execution_count": null,
   "metadata": {
    "colab": {},
    "colab_type": "code",
    "id": "Hr_gXr0ixrqh",
    "outputId": "51abb095-433c-4404-be97-bbe8311b02f4",
    "scrolled": true
   },
   "outputs": [],
   "source": [
    "%%time\n",
    "\n",
    "# Check if the file already exists\n",
    "if os.path.isfile('dados/dados_treino_reg.csv'):\n",
    "    print(\"The file already exists and we don't need to create it move...\" )\n",
    "else:\n",
    "    print('Preparing {} tuples for the dataset...\\n'.format(len(amostra_medias_treino)))\n",
    "    with open('dados/dados_treino_reg.csv', mode = 'w') as reg_data_file:\n",
    "        count = 0\n",
    "        for (user, movie, rating) in zip(amostra_usuarios_treino, amostra_filmes_treino, amostra_avaliacoes_treino):\n",
    "             \n",
    "            ###### Rating of a \"movie\" by users similar to the current user ######\n",
    "            \n",
    "            # Calculate user similar to current user       \n",
    "            user_sim = cosine_similarity(amostra_matriz_esparsa_treino[user], \n",
    "                                         amostra_matriz_esparsa_treino).ravel()\n",
    "            \n",
    "            # Get top users\n",
    "            top_sim_users = user_sim.argsort()[::-1][1:]\n",
    "            \n",
    "            # Get ratings from similar users\n",
    "            top_ratings = amostra_matriz_esparsa_treino[top_sim_users, movie].toarray().ravel()\n",
    "            \n",
    "            # Top similar users up to 5\n",
    "            top_sim_users_ratings = list(top_ratings[top_ratings != 0][:5])\n",
    "            top_sim_users_ratings.extend([amostra_medias_treino['movie'][movie]]*(5 - len(top_sim_users_ratings))) \n",
    "\n",
    "            ##### User ratings for movies similar to the current movie #####\n",
    "            \n",
    "            # Calculate movies similar to the current movie       \n",
    "            movie_sim = cosine_similarity(amostra_matriz_esparsa_treino[:,movie].T, \n",
    "                                          amostra_matriz_esparsa_treino.T).ravel()\n",
    "            \n",
    "            # Top filmes\n",
    "            top_sim_movies = movie_sim.argsort()[::-1][1:] \n",
    "            \n",
    "            # Get movie ratings most similar to current user\n",
    "            top_ratings = amostra_matriz_esparsa_treino[user, top_sim_movies].toarray().ravel()\n",
    "            \n",
    "            # Top similar users up to 5\n",
    "            top_sim_movies_ratings = list(top_ratings[top_ratings != 0][:5])\n",
    "            top_sim_movies_ratings.extend([amostra_medias_treino['user'][user]] * (5-len(top_sim_movies_ratings))) \n",
    "\n",
    "            ##### Prepares the line to be stored in the file #####\n",
    "            row = list()\n",
    "            row.append(user)\n",
    "            row.append(movie)\n",
    "            \n",
    "            # Added other attributes\n",
    "            row.append(amostra_medias_treino['global']) \n",
    "            row.extend(top_sim_users_ratings)\n",
    "            row.extend(top_sim_movies_ratings)\n",
    "            row.append(amostra_medias_treino['user'][user])\n",
    "            row.append(amostra_medias_treino['movie'][movie])\n",
    "\n",
    "            row.append(rating)\n",
    "            count = count + 1\n",
    "            \n",
    "            if count == 10:\n",
    "                break\n",
    "\n",
    "            reg_data_file.write(','.join(map(str, row)))\n",
    "            reg_data_file.write('\\n')        \n",
    "            if (count)%10000 == 0:\n",
    "                print(\"Concluído para {} linhas----- {}\".format(count, datetime.now() - start))"
   ]
  },
  {
   "cell_type": "markdown",
   "metadata": {
    "colab_type": "text",
    "id": "k3xJ8aWyxrqj"
   },
   "source": [
    "We load the file and place it in a dataframe."
   ]
  },
  {
   "cell_type": "code",
   "execution_count": null,
   "metadata": {
    "colab": {},
    "colab_type": "code",
    "id": "oUs6s6AZxrqj",
    "outputId": "b19997be-2750-4ab7-bd92-8cd23ea2a64e"
   },
   "outputs": [],
   "source": [
    "df_dados_treino_reg = pd.read_csv('dados/dados_treino_reg.csv', \n",
    "                               names = ['user', \n",
    "                                        'movie', \n",
    "                                        'GAvg', \n",
    "                                        'sur1', \n",
    "                                        'sur2', \n",
    "                                        'sur3', \n",
    "                                        'sur4', \n",
    "                                        'sur5',\n",
    "                                        'smr1', \n",
    "                                        'smr2', \n",
    "                                        'smr3', \n",
    "                                        'smr4', \n",
    "                                        'smr5', \n",
    "                                        'UAvg', \n",
    "                                        'MAvg', \n",
    "                                        'rating'], \n",
    "                               header = None)"
   ]
  },
  {
   "cell_type": "code",
   "execution_count": null,
   "metadata": {},
   "outputs": [],
   "source": [
    "# Dados\n",
    "df_dados_treino_reg.head()"
   ]
  },
  {
   "cell_type": "markdown",
   "metadata": {
    "colab_type": "text",
    "id": "r9vMR-Edxrqm"
   },
   "source": [
    "### Preparing Test Data for the Regression Model\n",
    "\n",
    "Same process with training data."
   ]
  },
  {
   "cell_type": "code",
   "execution_count": null,
   "metadata": {
    "colab": {},
    "colab_type": "code",
    "id": "M2QBhCcMxrqm"
   },
   "outputs": [],
   "source": [
    "# Extracting the data from the sample matrix\n",
    "amostra_usuarios_teste, amostra_filmes_teste, amostra_avaliacoes_teste = sparse.find(amostra_matriz_esparsa_teste)"
   ]
  },
  {
   "cell_type": "code",
   "execution_count": null,
   "metadata": {
    "colab": {},
    "colab_type": "code",
    "id": "CLVejZA3xrqs",
    "outputId": "767f43c5-ad21-43db-c636-4bc220000fa2"
   },
   "outputs": [],
   "source": [
    "%%time\n",
    "\n",
    "if os.path.isfile('dados/dados_teste_reg.csv'):\n",
    "    print(\"The file already exists and we don't need to create it move...\")\n",
    "else:\n",
    "\n",
    "    print('Preparing {} tuples for the dataset...\\n'.format(len(amostra_avaliacoes_teste)))\n",
    "    with open('dados/dados_teste_reg.csv', mode='w') as reg_data_file:\n",
    "        count = 0 \n",
    "        for (user, movie, rating)  in zip(amostra_usuarios_teste, amostra_filmes_teste, amostra_avaliacoes_teste):\n",
    "            st = datetime.now()\n",
    "\n",
    "            # Similarity of users\n",
    "            try:\n",
    "                user_sim = cosine_similarity(amostra_matriz_esparsa_treino[user], \n",
    "                                             amostra_matriz_esparsa_treino).ravel()\n",
    "                \n",
    "                top_sim_users = user_sim.argsort()[::-1][1:] \n",
    "                top_ratings = amostra_matriz_esparsa_treino[top_sim_users, movie].toarray().ravel()\n",
    "                top_sim_users_ratings = list(top_ratings[top_ratings != 0][:5])\n",
    "                top_sim_users_ratings.extend([amostra_medias_treino['movie'][movie]]*(5 - len(top_sim_users_ratings)))\n",
    "\n",
    "            except (IndexError, KeyError):\n",
    "                top_sim_users_ratings.extend([amostra_medias_treino['global']]*(5 - len(top_sim_users_ratings)))\n",
    "            except:\n",
    "                print(user, movie)\n",
    "                raise\n",
    "\n",
    "            # Film similarity\n",
    "            try:\n",
    "                movie_sim = cosine_similarity(amostra_matriz_esparsa_treino[:,movie].T, \n",
    "                                              amostra_matriz_esparsa_treino.T).ravel()\n",
    "                \n",
    "                top_sim_movies = movie_sim.argsort()[::-1][1:] \n",
    "                top_ratings = amostra_matriz_esparsa_treino[user, top_sim_movies].toarray().ravel()\n",
    "                top_sim_movies_ratings = list(top_ratings[top_ratings != 0][:5])\n",
    "                top_sim_movies_ratings.extend([amostra_medias_treino['user'][user]]*(5-len(top_sim_movies_ratings))) \n",
    "            except (IndexError, KeyError):\n",
    "                top_sim_movies_ratings.extend([amostra_medias_treino['global']]*(5-len(top_sim_movies_ratings)))\n",
    "            except :\n",
    "                raise\n",
    "\n",
    "            # Prepare data to write to file\n",
    "            row = list()\n",
    "            row.append(user)\n",
    "            row.append(movie)\n",
    "            row.append(amostra_medias_treino['global']) \n",
    "            row.extend(top_sim_users_ratings)\n",
    "            row.extend(top_sim_movies_ratings)\n",
    "\n",
    "            try:\n",
    "                row.append(amostra_medias_treino['user'][user])\n",
    "            except KeyError:\n",
    "                row.append(amostra_medias_treino['global'])\n",
    "            except:\n",
    "                raise\n",
    "\n",
    "            try:\n",
    "                row.append(amostra_medias_treino['movie'][movie])\n",
    "            except KeyError:\n",
    "                row.append(amostra_medias_treino['global'])\n",
    "            except:\n",
    "                raise\n",
    "\n",
    "            row.append(rating)\n",
    "            \n",
    "            count = count + 1\n",
    "            \n",
    "            if count == 5:\n",
    "                break\n",
    "    \n",
    "            reg_data_file.write(','.join(map(str, row)))\n",
    "            reg_data_file.write('\\n')        \n",
    "            if (count)%1000 == 0:\n",
    "                print(\"Concluído em {} linhas----- {}\".format(count, datetime.now() - start))"
   ]
  },
  {
   "cell_type": "markdown",
   "metadata": {
    "colab_type": "text",
    "id": "RgiFyKukxrqu"
   },
   "source": [
    "We load the file and place it in a dataframe."
   ]
  },
  {
   "cell_type": "code",
   "execution_count": null,
   "metadata": {
    "colab": {},
    "colab_type": "code",
    "id": "7mhv5Rztxrqv",
    "outputId": "21381d8c-b5da-499d-a1b2-9052b78f2549"
   },
   "outputs": [],
   "source": [
    "# Generate the test dataset\n",
    "df_dados_teste_reg = pd.read_csv('dados/dados_teste_reg.csv', names = ['user', \n",
    "                                                                       'movie', \n",
    "                                                                       'GAvg', \n",
    "                                                                       'sur1', \n",
    "                                                                       'sur2', \n",
    "                                                                       'sur3', \n",
    "                                                                       'sur4', \n",
    "                                                                       'sur5',\n",
    "                                                                       'smr1', \n",
    "                                                                       'smr2', \n",
    "                                                                       'smr3', \n",
    "                                                                       'smr4', \n",
    "                                                                       'smr5',\n",
    "                                                                       'UAvg', \n",
    "                                                                       'MAvg', \n",
    "                                                                       'rating'], \n",
    "                                 header = None)"
   ]
  },
  {
   "cell_type": "code",
   "execution_count": null,
   "metadata": {},
   "outputs": [],
   "source": [
    "df_dados_teste_reg.head()"
   ]
  },
  {
   "cell_type": "markdown",
   "metadata": {
    "colab_type": "text",
    "id": "ZzgDaBL_xrq8"
   },
   "source": [
    "## Building the Machine Learning Model\n",
    "\n",
    "The last stage of the work: building, training and evaluating the model."
   ]
  },
  {
   "cell_type": "code",
   "execution_count": null,
   "metadata": {
    "colab": {},
    "colab_type": "code",
    "id": "9sKjPQMExrq9",
    "outputId": "4813287c-b810-4f5e-87b2-8917d75c28ca"
   },
   "outputs": [],
   "source": [
    "# Dictionaries for model evaluation\n",
    "models_evaluation_train = dict()\n",
    "models_evaluation_test = dict()"
   ]
  },
  {
   "cell_type": "markdown",
   "metadata": {
    "colab_type": "text",
    "id": "Cg4ii0eRxrrB"
   },
   "source": [
    "Abaixo algumas funções para executar o modelo."
   ]
  },
  {
   "cell_type": "code",
   "execution_count": null,
   "metadata": {},
   "outputs": [],
   "source": [
    "# Function for calculating the model error\n",
    "def calcula_metricas(y_true, y_pred):\n",
    "    rmse = np.sqrt(np.mean([ (y_true[i] - y_pred[i])**2 for i in range(len(y_pred)) ]))\n",
    "    mape = np.mean(np.abs( (y_true - y_pred)/y_true )) * 100\n",
    "    return rmse, mape"
   ]
  },
  {
   "cell_type": "code",
   "execution_count": null,
   "metadata": {},
   "outputs": [],
   "source": [
    "# Function for training and testing the model\n",
    "def executa_modelo_xgboost(modelo, x_train, y_train, x_test, y_test, verbose = True):\n",
    "\n",
    "    # Dictionary\n",
    "    train_results = dict()\n",
    "    test_results = dict()\n",
    "    \n",
    "    # Model training\n",
    "    print('Training the model..')\n",
    "    start = datetime.now()\n",
    "    modelo.fit(x_train, y_train, eval_metric = 'rmse')\n",
    "    print('Concluded. Total time: {}\\n'.format(datetime.now() - start))\n",
    "\n",
    "    # Calculating model error on training data\n",
    "    print('Calculating Metrics with Training Data.')\n",
    "    start = datetime.now()\n",
    "    y_train_pred = modelo.predict(x_train)\n",
    "    rmse_train, mape_train = calcula_metricas(y_train.values, y_train_pred)\n",
    "    \n",
    "    # Write the results\n",
    "    train_results = {'rmse': rmse_train, 'mape' : mape_train, 'previsoes' : y_train_pred}\n",
    "    \n",
    "    if verbose:\n",
    "        print('\\nModel Error in Training Data')\n",
    "        print('-'*30)\n",
    "        print('RMSE : ', rmse_train)\n",
    "        print('MAPE : ', mape_train)\n",
    "        \n",
    "    #Evaluating the model with test data\n",
    "    print('\\nEvaluating the model with test data.')\n",
    "    y_test_pred = modelo.predict(x_test) \n",
    "    rmse_test, mape_test = calcula_metricas(y_true = y_test.values, y_pred = y_test_pred)\n",
    "    \n",
    "    # Write the results\n",
    "    test_results = {'rmse': rmse_test, 'mape' : mape_test, 'previsoes':y_test_pred}\n",
    "    \n",
    "    if verbose:\n",
    "        # Write the results\n",
    "        print('-'*30)\n",
    "        print('RMSE : ', rmse_test)\n",
    "        print('MAPE : ', mape_test)\n",
    "        \n",
    "    return train_results, test_results"
   ]
  },
  {
   "cell_type": "code",
   "execution_count": null,
   "metadata": {},
   "outputs": [],
   "source": [
    "# Seed\n",
    "my_seed = 15\n",
    "random.seed(my_seed)\n",
    "np.random.seed(my_seed)"
   ]
  },
  {
   "cell_type": "markdown",
   "metadata": {
    "colab_type": "text",
    "id": "Jh6CNDb1xrrI"
   },
   "source": [
    "## Model Training"
   ]
  },
  {
   "cell_type": "code",
   "execution_count": null,
   "metadata": {},
   "outputs": [],
   "source": [
    "# Prepare training data\n",
    "x_treino = df_dados_treino_reg.drop(['user', 'movie', 'rating'], axis = 1)\n",
    "y_treino = df_dados_treino_reg['rating']"
   ]
  },
  {
   "cell_type": "code",
   "execution_count": null,
   "metadata": {},
   "outputs": [],
   "source": [
    "# Prepare testing data\n",
    "x_teste = df_dados_teste_reg.drop(['user', 'movie', 'rating'], axis = 1)\n",
    "y_teste = df_dados_teste_reg['rating']"
   ]
  },
  {
   "cell_type": "code",
   "execution_count": null,
   "metadata": {},
   "outputs": [],
   "source": [
    "# Create the regression model with 100 estimators\n",
    "modelo_xgb = xgb.XGBRegressor(silent = False, random_state = 15, n_estimators = 100)"
   ]
  },
  {
   "cell_type": "code",
   "execution_count": null,
   "metadata": {},
   "outputs": [],
   "source": [
    "# Model training\n",
    "train_results, test_results = executa_modelo_xgboost(modelo_xgb, x_treino, y_treino, x_teste, y_teste)"
   ]
  },
  {
   "cell_type": "code",
   "execution_count": null,
   "metadata": {},
   "outputs": [],
   "source": [
    "# Store the model evaluation results\n",
    "models_evaluation_train['modelo_xgb'] = train_results\n",
    "models_evaluation_test['modelo_xgb'] = test_results"
   ]
  },
  {
   "cell_type": "code",
   "execution_count": null,
   "metadata": {
    "colab": {},
    "colab_type": "code",
    "id": "DoxUdAnFxrrK",
    "outputId": "e2dc745d-84d8-4468-cba2-6417fc5e6277"
   },
   "outputs": [],
   "source": [
    "# Most important variables for the model\n",
    "xgb.plot_importance(modelo_xgb)\n",
    "plt.show()"
   ]
  },
  {
   "cell_type": "markdown",
   "metadata": {
    "colab_type": "text",
    "id": "DWm7knFrxrrO"
   },
   "source": [
    "In addition to building the model, more relevant variables were also identified.\n",
    "\n",
    "Note: User ratings are critical to recommending rated movies to other users."
   ]
  },
  {
   "cell_type": "markdown",
   "metadata": {
    "colab_type": "text",
    "id": "Yd0ye7O1xrsR"
   },
   "source": [
    "## Saving the Result"
   ]
  },
  {
   "cell_type": "code",
   "execution_count": null,
   "metadata": {
    "colab": {},
    "colab_type": "code",
    "id": "DxsS3JKnxrsS",
    "outputId": "9124baa4-ff9f-4ab4-c9f4-4d4af70f46f7",
    "scrolled": false
   },
   "outputs": [],
   "source": [
    "# Save results to disk\n",
    "pd.DataFrame(models_evaluation_test).to_csv('dados/resultado.csv')\n",
    "models = pd.read_csv('dados/resultado.csv', index_col = 0)\n",
    "models.loc['rmse'].sort_values()"
   ]
  },
  {
   "cell_type": "markdown",
   "metadata": {},
   "source": []
  }
 ],
 "metadata": {
  "colab": {
   "name": "Netflix_Movie.ipynb",
   "provenance": []
  },
  "kernelspec": {
   "display_name": "Python 3",
   "language": "python",
   "name": "python3"
  },
  "language_info": {
   "codemirror_mode": {
    "name": "ipython",
    "version": 3
   },
   "file_extension": ".py",
   "mimetype": "text/x-python",
   "name": "python",
   "nbconvert_exporter": "python",
   "pygments_lexer": "ipython3",
   "version": "3.7.6"
  }
 },
 "nbformat": 4,
 "nbformat_minor": 1
}
